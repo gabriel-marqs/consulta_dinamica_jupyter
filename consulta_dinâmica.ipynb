{
 "cells": [
  {
   "cell_type": "code",
   "execution_count": null,
   "metadata": {},
   "outputs": [
    {
     "data": {
      "application/vnd.jupyter.widget-view+json": {
       "model_id": "d5d116de54ed4026bf1f7d13a03d09a9",
       "version_major": 2,
       "version_minor": 0
      },
      "text/plain": [
       "Text(value='1', description='ESN:', placeholder='Informe o ESN')"
      ]
     },
     "metadata": {},
     "output_type": "display_data"
    },
    {
     "data": {
      "application/vnd.jupyter.widget-view+json": {
       "model_id": "09f86c1fe6084dc9bc80498e070677d5",
       "version_major": 2,
       "version_minor": 0
      },
      "text/plain": [
       "Dropdown(description='Escolha o filtro desejado', index=1, options=('Sem filtro', 'Desconexão da bateria', 'te…"
      ]
     },
     "metadata": {},
     "output_type": "display_data"
    },
    {
     "data": {
      "application/vnd.jupyter.widget-view+json": {
       "model_id": "d5e1ffa06b4a4f469593597be971b42f",
       "version_major": 2,
       "version_minor": 0
      },
      "text/plain": [
       "ToggleButtons(description='IGNIÇÃO', index=1, options=('Sem filtro', 'Ligado', 'Desligado'), value='Ligado')"
      ]
     },
     "metadata": {},
     "output_type": "display_data"
    },
    {
     "data": {
      "application/vnd.jupyter.widget-view+json": {
       "model_id": "ea2b29021e51469ea4294a502c87b67a",
       "version_major": 2,
       "version_minor": 0
      },
      "text/plain": [
       "ToggleButtons(description='VELOCIDADE', index=2, options=('Sem filtro', 'Em movimento', 'Parado'), value='Para…"
      ]
     },
     "metadata": {},
     "output_type": "display_data"
    },
    {
     "data": {
      "application/vnd.jupyter.widget-view+json": {
       "model_id": "3779e73750464c288a033b8dba183398",
       "version_major": 2,
       "version_minor": 0
      },
      "text/plain": [
       "Button(button_style='info', description='Buscar', icon='check', style=ButtonStyle())"
      ]
     },
     "metadata": {},
     "output_type": "display_data"
    },
    {
     "data": {
      "application/vnd.jupyter.widget-view+json": {
       "model_id": "9d465d8f6c66463583e369698a95f962",
       "version_major": 2,
       "version_minor": 0
      },
      "text/plain": [
       "Button(button_style='success', description='Exportar Tabela', icon='download', style=ButtonStyle())"
      ]
     },
     "metadata": {},
     "output_type": "display_data"
    },
    {
     "data": {
      "text/html": [
       "<style type=\"text/css\">\n",
       "#T_d2642 tr th:first-child {\n",
       "  display: none;\n",
       "}\n",
       "</style>\n",
       "<table id=\"T_d2642\">\n",
       "  <thead>\n",
       "    <tr>\n",
       "      <th class=\"blank level0\" >&nbsp;</th>\n",
       "      <th id=\"T_d2642_level0_col0\" class=\"col_heading level0 col0\" >esn</th>\n",
       "      <th id=\"T_d2642_level0_col1\" class=\"col_heading level0 col1\" >timestamp</th>\n",
       "      <th id=\"T_d2642_level0_col2\" class=\"col_heading level0 col2\" >battery</th>\n",
       "      <th id=\"T_d2642_level0_col3\" class=\"col_heading level0 col3\" >ignition</th>\n",
       "      <th id=\"T_d2642_level0_col4\" class=\"col_heading level0 col4\" >speed</th>\n",
       "      <th id=\"T_d2642_level0_col5\" class=\"col_heading level0 col5\" >imobilizer</th>\n",
       "    </tr>\n",
       "  </thead>\n",
       "  <tbody>\n",
       "    <tr>\n",
       "      <th id=\"T_d2642_level0_row0\" class=\"row_heading level0 row0\" >0</th>\n",
       "      <td id=\"T_d2642_row0_col0\" class=\"data row0 col0\" >1</td>\n",
       "      <td id=\"T_d2642_row0_col1\" class=\"data row0 col1\" >2024-01-18 12:58:11</td>\n",
       "      <td id=\"T_d2642_row0_col2\" class=\"data row0 col2\" >6040.15</td>\n",
       "      <td id=\"T_d2642_row0_col3\" class=\"data row0 col3\" >1</td>\n",
       "      <td id=\"T_d2642_row0_col4\" class=\"data row0 col4\" >0</td>\n",
       "      <td id=\"T_d2642_row0_col5\" class=\"data row0 col5\" >disabled</td>\n",
       "    </tr>\n",
       "  </tbody>\n",
       "</table>\n"
      ],
      "text/plain": [
       "<pandas.io.formats.style.Styler at 0x1f160bad1f0>"
      ]
     },
     "metadata": {},
     "output_type": "display_data"
    }
   ],
   "source": [
    "import ipywidgets as widgets\n",
    "from IPython.display import display, clear_output\n",
    "import mysql.connector\n",
    "import pandas as pd\n",
    "from IPython.display import HTML\n",
    "\n",
    "conexao = mysql.connector.connect(\n",
    "    host='127.0.0.1',\n",
    "    port=3306,\n",
    "    user='root',\n",
    "    password='12345678',\n",
    "    database='usando_sql_em_python'\n",
    ")\n",
    "\n",
    "# Função para lidar com a seleção do usuário\n",
    "def handle_selection(selection, esn, ignition_filter, cursor):\n",
    "    consulta = \"SELECT * FROM tabela_dados WHERE esn = %s\"\n",
    "    if selection == options[0]:\n",
    "        cursor.execute(consulta, (esn,))\n",
    "        return cursor.fetchall()  \n",
    "    elif selection == options[1]:\n",
    "        consulta += \" AND battery < 10000\"\n",
    "    elif selection == options[2]:\n",
    "        consulta += \" AND ignition = 1\"\n",
    "    elif selection == options[3]:\n",
    "        consulta += \" AND speed > 10\"\n",
    "\n",
    "    if ignition_toggle.value != 'Sem filtro':\n",
    "        ignition_filter = f\" AND ignition = {'1' if ignition_toggle.value == 'Ligado' else '0'}\"\n",
    "    else:\n",
    "        ignition_filter = ''\n",
    "\n",
    "    if speed_toggle.value != 'Sem filtro':\n",
    "        speed_filter = f\" AND speed {'<' if speed_toggle.value == 'Parado' else '>'} 5\"\n",
    "    else:\n",
    "        speed_filter = ''\n",
    "        \n",
    "    consulta += ignition_filter\n",
    "    consulta += speed_filter\n",
    "\n",
    "\n",
    "        \n",
    "    cursor.execute(consulta, (esn,))\n",
    "    return cursor.fetchall()\n",
    "\n",
    "\n",
    "def handle_dropdown_change(change):\n",
    "    new_value = change['new']\n",
    "    if new_value == options[0]:\n",
    "        clear_output()\n",
    "        display(esn)\n",
    "        display(dropdown)\n",
    "        display(button)\n",
    "    elif new_value == options[1]:\n",
    "        clear_output()\n",
    "        display(esn)\n",
    "        display(dropdown)\n",
    "        display(ignition_toggle)\n",
    "        display(speed_toggle)\n",
    "        display(button)\n",
    "    else:\n",
    "        clear_output()\n",
    "        display(esn)\n",
    "        display(dropdown)\n",
    "        display(button)\n",
    "\n",
    "\n",
    "# Função de callback para o evento de clique do botão\n",
    "def on_button_click(button):\n",
    "    clear_output()\n",
    "    cursor = conexao.cursor()\n",
    "    resultado = handle_selection(dropdown.value, esn.value, ignition_toggle.value, cursor)\n",
    "    if resultado:\n",
    "        df = pd.DataFrame(resultado, columns=[desc[0] for desc in cursor.description])\n",
    "        df_head = df.head(50)\n",
    "        styled_df = df_head.style.set_table_styles([{'selector': 'tr th:first-child', 'props': [('display', 'none')]}])\n",
    "        export_button.result = df  # Passando o DataFrame para o atributo result do botão de exportação\n",
    "\n",
    "        handle_dropdown_change({'new': dropdown.value})\n",
    "        display(export_button)\n",
    "        display(styled_df)\n",
    "        \n",
    "\n",
    "# Função de callback para o evento de clique do botão de exportação\n",
    "def export_table(button):\n",
    "    df = button.result  # Obtendo o DataFrame do atributo result do botão de exportação\n",
    "    df.to_csv('tabela.csv', index=False)\n",
    "    print(\"Tabela exportada como 'tabela.csv'\")\n",
    "\n",
    "try:\n",
    "    if conexao.is_connected():\n",
    "\n",
    "        # Campo de busca ESN\n",
    "        esn = widgets.Text(\n",
    "            placeholder='Informe o ESN',\n",
    "            description='ESN:',\n",
    "            disabled=False   \n",
    "        )\n",
    "\n",
    "        # Botão de busca\n",
    "        button = widgets.Button(\n",
    "            description='Buscar',\n",
    "            disabled=False,\n",
    "            button_style='info',\n",
    "            icon='check'\n",
    "        )\n",
    "\n",
    "        # Botão de exportação\n",
    "        export_button = widgets.Button(\n",
    "            description='Exportar Tabela',\n",
    "            disabled=False,\n",
    "            button_style='success',\n",
    "            icon='download'\n",
    "        )\n",
    "\n",
    "        ignition_toggle = widgets.ToggleButtons(\n",
    "            options=['Sem filtro', 'Ligado', 'Desligado'],\n",
    "            value='Sem filtro',\n",
    "            description='IGNIÇÃO',\n",
    "            disabled=False,\n",
    "        )\n",
    "\n",
    "        speed_toggle = widgets.ToggleButtons(\n",
    "            options=['Sem filtro', 'Em movimento', 'Parado'],\n",
    "            value='Sem filtro',\n",
    "            description='VELOCIDADE',\n",
    "            disabled=False\n",
    "        )\n",
    "\n",
    "        export_button.on_click(export_table)\n",
    "        export_button.result = None  # Inicializando o atributo result do botão de exportação como None\n",
    "\n",
    "        # Criar o menu de opções\n",
    "        options = [\"Sem filtro\", \"Desconexão da bateria\", \"teste\", \"Velocidade maior que 10\"]\n",
    "        dropdown = widgets.Dropdown(options=options, description=\"Escolha o filtro desejado\")\n",
    "\n",
    "        dropdown.observe(handle_dropdown_change, names='value')\n",
    "\n",
    "\n",
    "\n",
    "\n",
    "        # Registrar a função de callback para o evento de clique do botão\n",
    "        button.on_click(on_button_click)\n",
    "\n",
    "        # Exibir os widgets\n",
    "        display(esn)\n",
    "        display(dropdown)\n",
    "        display(button)\n",
    "\n",
    "except mysql.connector.Error as erro:\n",
    "    # Se ocorrer um erro durante a conexão, imprime a mensagem de erro\n",
    "    print(f\"Erro ao conectar ao banco de dados: {erro}\")\n"
   ]
  }
 ],
 "metadata": {
  "kernelspec": {
   "display_name": "Python 3",
   "language": "python",
   "name": "python3"
  },
  "language_info": {
   "codemirror_mode": {
    "name": "ipython",
    "version": 3
   },
   "file_extension": ".py",
   "mimetype": "text/x-python",
   "name": "python",
   "nbconvert_exporter": "python",
   "pygments_lexer": "ipython3",
   "version": "3.12.2"
  }
 },
 "nbformat": 4,
 "nbformat_minor": 2
}
